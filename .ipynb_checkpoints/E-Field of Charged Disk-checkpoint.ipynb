{
 "cells": [
  {
   "cell_type": "code",
   "execution_count": null,
   "metadata": {},
   "outputs": [],
   "source": [
    "import numpy as np\n",
    "import matplotlib.pyplot as plt\n",
    "\n",
    "# integrand function\n",
    "def intergrand(u, v):\n",
    "\treturn v * u / (u**2 + v**2)**(3/2)\n",
    "\n",
    "# simple integration function\n",
    "def integrate(a, b, N, f, param):\n",
    "    dx = (b - a)/N\n",
    "    \n",
    "    sum = 0\n",
    "    \n",
    "    for i in range(int(N)):\n",
    "        x = a + dx * i\n",
    "        sum += f(x, param) * dx\n",
    "    \n",
    "    return sum\n",
    "\n",
    "# integration resolution\n",
    "N = int(1e3)\n",
    "# model resolution\n",
    "M = int(1e2)\n"
   ]
  }
 ],
 "metadata": {
  "kernelspec": {
   "display_name": "Python 3",
   "language": "python",
   "name": "python3"
  },
  "language_info": {
   "codemirror_mode": {
    "name": "ipython",
    "version": 3
   },
   "file_extension": ".py",
   "mimetype": "text/x-python",
   "name": "python",
   "nbconvert_exporter": "python",
   "pygments_lexer": "ipython3",
   "version": "3.7.4"
  }
 },
 "nbformat": 4,
 "nbformat_minor": 2
}
